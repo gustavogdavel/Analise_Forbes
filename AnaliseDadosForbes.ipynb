{
 "cells": [
  {
   "cell_type": "markdown",
   "id": "009aa879",
   "metadata": {},
   "source": [
    "# 0. Introdução"
   ]
  },
  {
   "cell_type": "markdown",
   "id": "04f2adce",
   "metadata": {},
   "source": [
    "A análise abaixo foi feita utilizando dados disponibilizados no site www.kaggle.com\n",
    "\n",
    "Nossa motivação é realizar análises voltadas para o entendimento e comparação das pessoas que figuram entre os mais ricos do mundo segundo a Forbes.\n",
    "\n",
    "Análises que tentaremos fazer com este estudo:\n",
    "\n",
    "- Qual a distribuição de idade dos bilionários e identificar a idade média, a idade mínima e a idade máxima?\n",
    "- Analisar a relação entre o patrimônio final e a categoria do bilionário, buscando identificar se há alguma categoria que possui uma média de patrimônio mais alta.\n",
    "- Verificar a proporção de homens e mulheres presentes no dataset e analisar se há alguma diferença significativa entre a quantidade de homens e mulheres bilionários.\n",
    "- Identificar os países com maior número de bilionários e analisar a distribuição de patrimônio desses bilionários por país.\n",
    "- Identificar as categorias de negócios mais lucrativas e suas respectivas personalidades mais ricas.\n",
    "\n",
    "Fonte do dataset: https://www.kaggle.com/datasets/shrikrishnaparab/forbes-billionaires-and-companies-2022"
   ]
  },
  {
   "cell_type": "markdown",
   "id": "1786c65c",
   "metadata": {},
   "source": [
    "# 1. Importando Bibliotecas"
   ]
  },
  {
   "cell_type": "code",
   "execution_count": 1,
   "id": "211007b9",
   "metadata": {},
   "outputs": [],
   "source": [
    "import pandas as pd\n",
    "import matplotlib.pyplot as plt\n",
    "import seaborn as sns\n"
   ]
  },
  {
   "cell_type": "markdown",
   "id": "5e3093b8",
   "metadata": {},
   "source": [
    "# 2. Importando os dados"
   ]
  },
  {
   "cell_type": "code",
   "execution_count": 2,
   "id": "f4016947",
   "metadata": {},
   "outputs": [],
   "source": [
    "df = pd.read_csv('forbes_billionaires_2022.csv')"
   ]
  },
  {
   "cell_type": "code",
   "execution_count": 3,
   "id": "c6f19358",
   "metadata": {},
   "outputs": [
    {
     "data": {
      "text/html": [
       "<div>\n",
       "<style scoped>\n",
       "    .dataframe tbody tr th:only-of-type {\n",
       "        vertical-align: middle;\n",
       "    }\n",
       "\n",
       "    .dataframe tbody tr th {\n",
       "        vertical-align: top;\n",
       "    }\n",
       "\n",
       "    .dataframe thead th {\n",
       "        text-align: right;\n",
       "    }\n",
       "</style>\n",
       "<table border=\"1\" class=\"dataframe\">\n",
       "  <thead>\n",
       "    <tr style=\"text-align: right;\">\n",
       "      <th></th>\n",
       "      <th>rank</th>\n",
       "      <th>personName</th>\n",
       "      <th>age</th>\n",
       "      <th>finalWorth</th>\n",
       "      <th>category</th>\n",
       "      <th>source</th>\n",
       "      <th>country</th>\n",
       "      <th>state</th>\n",
       "      <th>city</th>\n",
       "      <th>organization</th>\n",
       "      <th>selfMade</th>\n",
       "      <th>gender</th>\n",
       "      <th>birthDate</th>\n",
       "      <th>title</th>\n",
       "      <th>philanthropyScore</th>\n",
       "      <th>bio</th>\n",
       "      <th>about</th>\n",
       "    </tr>\n",
       "  </thead>\n",
       "  <tbody>\n",
       "    <tr>\n",
       "      <th>0</th>\n",
       "      <td>1</td>\n",
       "      <td>Elon Musk</td>\n",
       "      <td>50.0</td>\n",
       "      <td>219000</td>\n",
       "      <td>Automotive</td>\n",
       "      <td>Tesla, SpaceX</td>\n",
       "      <td>United States</td>\n",
       "      <td>Texas</td>\n",
       "      <td>Austin</td>\n",
       "      <td>Tesla</td>\n",
       "      <td>True</td>\n",
       "      <td>M</td>\n",
       "      <td>6/28/1971</td>\n",
       "      <td>CEO</td>\n",
       "      <td>1.0</td>\n",
       "      <td>Elon Musk is working to revolutionize transpor...</td>\n",
       "      <td>Musk was accepted to a graduate program at Sta...</td>\n",
       "    </tr>\n",
       "    <tr>\n",
       "      <th>1</th>\n",
       "      <td>2</td>\n",
       "      <td>Jeff Bezos</td>\n",
       "      <td>58.0</td>\n",
       "      <td>171000</td>\n",
       "      <td>Technology</td>\n",
       "      <td>Amazon</td>\n",
       "      <td>United States</td>\n",
       "      <td>Washington</td>\n",
       "      <td>Seattle</td>\n",
       "      <td>Amazon</td>\n",
       "      <td>True</td>\n",
       "      <td>M</td>\n",
       "      <td>1/12/1964</td>\n",
       "      <td>Entrepreneur</td>\n",
       "      <td>1.0</td>\n",
       "      <td>Jeff Bezos founded e-commerce giant Amazon in ...</td>\n",
       "      <td>Growing up, Jeff Bezos worked summers on his g...</td>\n",
       "    </tr>\n",
       "    <tr>\n",
       "      <th>2</th>\n",
       "      <td>3</td>\n",
       "      <td>Bernard Arnault &amp; family</td>\n",
       "      <td>73.0</td>\n",
       "      <td>158000</td>\n",
       "      <td>Fashion &amp; Retail</td>\n",
       "      <td>LVMH</td>\n",
       "      <td>France</td>\n",
       "      <td>NaN</td>\n",
       "      <td>Paris</td>\n",
       "      <td>LVMH Moët Hennessy Louis Vuitton</td>\n",
       "      <td>False</td>\n",
       "      <td>M</td>\n",
       "      <td>3/5/1949</td>\n",
       "      <td>Chairman and CEO</td>\n",
       "      <td>NaN</td>\n",
       "      <td>Bernard Arnault oversees the LVMH empire of so...</td>\n",
       "      <td>Arnault apparently wooed his wife, Helene Merc...</td>\n",
       "    </tr>\n",
       "    <tr>\n",
       "      <th>3</th>\n",
       "      <td>4</td>\n",
       "      <td>Bill Gates</td>\n",
       "      <td>66.0</td>\n",
       "      <td>129000</td>\n",
       "      <td>Technology</td>\n",
       "      <td>Microsoft</td>\n",
       "      <td>United States</td>\n",
       "      <td>Washington</td>\n",
       "      <td>Medina</td>\n",
       "      <td>Bill &amp; Melinda Gates Foundation</td>\n",
       "      <td>True</td>\n",
       "      <td>M</td>\n",
       "      <td>10/28/1955</td>\n",
       "      <td>Cofounder</td>\n",
       "      <td>4.0</td>\n",
       "      <td>Bill Gates turned his fortune from software fi...</td>\n",
       "      <td>When Gates was a kid, he spent so much time re...</td>\n",
       "    </tr>\n",
       "    <tr>\n",
       "      <th>4</th>\n",
       "      <td>5</td>\n",
       "      <td>Warren Buffett</td>\n",
       "      <td>91.0</td>\n",
       "      <td>118000</td>\n",
       "      <td>Finance &amp; Investments</td>\n",
       "      <td>Berkshire Hathaway</td>\n",
       "      <td>United States</td>\n",
       "      <td>Nebraska</td>\n",
       "      <td>Omaha</td>\n",
       "      <td>Berkshire Hathaway</td>\n",
       "      <td>True</td>\n",
       "      <td>M</td>\n",
       "      <td>8/30/1930</td>\n",
       "      <td>CEO</td>\n",
       "      <td>5.0</td>\n",
       "      <td>Known as the \"Oracle of Omaha,\" Warren Buffett...</td>\n",
       "      <td>Buffett still lives in the same Omaha, Nebrask...</td>\n",
       "    </tr>\n",
       "  </tbody>\n",
       "</table>\n",
       "</div>"
      ],
      "text/plain": [
       "   rank                personName   age  finalWorth               category  \\\n",
       "0     1                 Elon Musk  50.0      219000             Automotive   \n",
       "1     2                Jeff Bezos  58.0      171000             Technology   \n",
       "2     3  Bernard Arnault & family  73.0      158000       Fashion & Retail   \n",
       "3     4                Bill Gates  66.0      129000             Technology   \n",
       "4     5            Warren Buffett  91.0      118000  Finance & Investments   \n",
       "\n",
       "               source        country       state     city  \\\n",
       "0       Tesla, SpaceX  United States       Texas   Austin   \n",
       "1              Amazon  United States  Washington  Seattle   \n",
       "2                LVMH         France         NaN    Paris   \n",
       "3           Microsoft  United States  Washington   Medina   \n",
       "4  Berkshire Hathaway  United States    Nebraska    Omaha   \n",
       "\n",
       "                       organization  selfMade gender   birthDate  \\\n",
       "0                             Tesla      True      M   6/28/1971   \n",
       "1                            Amazon      True      M   1/12/1964   \n",
       "2  LVMH Moët Hennessy Louis Vuitton     False      M    3/5/1949   \n",
       "3   Bill & Melinda Gates Foundation      True      M  10/28/1955   \n",
       "4                Berkshire Hathaway      True      M   8/30/1930   \n",
       "\n",
       "              title  philanthropyScore  \\\n",
       "0               CEO                1.0   \n",
       "1      Entrepreneur                1.0   \n",
       "2  Chairman and CEO                NaN   \n",
       "3         Cofounder                4.0   \n",
       "4               CEO                5.0   \n",
       "\n",
       "                                                 bio  \\\n",
       "0  Elon Musk is working to revolutionize transpor...   \n",
       "1  Jeff Bezos founded e-commerce giant Amazon in ...   \n",
       "2  Bernard Arnault oversees the LVMH empire of so...   \n",
       "3  Bill Gates turned his fortune from software fi...   \n",
       "4  Known as the \"Oracle of Omaha,\" Warren Buffett...   \n",
       "\n",
       "                                               about  \n",
       "0  Musk was accepted to a graduate program at Sta...  \n",
       "1  Growing up, Jeff Bezos worked summers on his g...  \n",
       "2  Arnault apparently wooed his wife, Helene Merc...  \n",
       "3  When Gates was a kid, he spent so much time re...  \n",
       "4  Buffett still lives in the same Omaha, Nebrask...  "
      ]
     },
     "execution_count": 3,
     "metadata": {},
     "output_type": "execute_result"
    }
   ],
   "source": [
    "df.head()"
   ]
  },
  {
   "cell_type": "code",
   "execution_count": 3,
   "id": "367172d9",
   "metadata": {},
   "outputs": [
    {
     "name": "stdout",
     "output_type": "stream",
     "text": [
      "<class 'pandas.core.frame.DataFrame'>\n",
      "RangeIndex: 2668 entries, 0 to 2667\n",
      "Data columns (total 17 columns):\n",
      " #   Column             Non-Null Count  Dtype  \n",
      "---  ------             --------------  -----  \n",
      " 0   rank               2668 non-null   int64  \n",
      " 1   personName         2668 non-null   object \n",
      " 2   age                2582 non-null   float64\n",
      " 3   finalWorth         2668 non-null   int64  \n",
      " 4   category           2668 non-null   object \n",
      " 5   source             2668 non-null   object \n",
      " 6   country            2655 non-null   object \n",
      " 7   state              748 non-null    object \n",
      " 8   city               2624 non-null   object \n",
      " 9   organization       352 non-null    object \n",
      " 10  selfMade           2668 non-null   bool   \n",
      " 11  gender             2652 non-null   object \n",
      " 12  birthDate          2569 non-null   object \n",
      " 13  title              401 non-null    object \n",
      " 14  philanthropyScore  396 non-null    float64\n",
      " 15  bio                2668 non-null   object \n",
      " 16  about              1562 non-null   object \n",
      "dtypes: bool(1), float64(2), int64(2), object(12)\n",
      "memory usage: 336.2+ KB\n"
     ]
    }
   ],
   "source": [
    "df.info()"
   ]
  },
  {
   "cell_type": "code",
   "execution_count": 4,
   "id": "47c2bb5f",
   "metadata": {},
   "outputs": [
    {
     "name": "stdout",
     "output_type": "stream",
     "text": [
      "rank                    0\n",
      "personName              0\n",
      "age                    86\n",
      "finalWorth              0\n",
      "category                0\n",
      "source                  0\n",
      "country                13\n",
      "state                1920\n",
      "city                   44\n",
      "organization         2316\n",
      "selfMade                0\n",
      "gender                 16\n",
      "birthDate              99\n",
      "title                2267\n",
      "philanthropyScore    2272\n",
      "bio                     0\n",
      "about                1106\n",
      "dtype: int64\n"
     ]
    }
   ],
   "source": [
    "# Verificando valores nulos\n",
    "print(df.isna().sum()) "
   ]
  },
  {
   "cell_type": "markdown",
   "id": "d3dc02e8",
   "metadata": {},
   "source": [
    "Das variáveis que usaremos na análise, a 'idade' preeecherei com a media das demais, para não comprometer o resultado e 'país e 'gênero', como são poucas linhas, optei por remove-las."
   ]
  },
  {
   "cell_type": "code",
   "execution_count": 11,
   "id": "d941b69c",
   "metadata": {},
   "outputs": [],
   "source": [
    "df['age'] = df['age'].fillna(df['age'].mean()) \n",
    "df = df.dropna(subset=['country', 'gender'])  "
   ]
  },
  {
   "cell_type": "code",
   "execution_count": 13,
   "id": "2359245b",
   "metadata": {
    "scrolled": true
   },
   "outputs": [
    {
     "name": "stdout",
     "output_type": "stream",
     "text": [
      "rank                    0\n",
      "personName              0\n",
      "age                     0\n",
      "finalWorth              0\n",
      "category                0\n",
      "source                  0\n",
      "country                 0\n",
      "state                1895\n",
      "city                   29\n",
      "organization         2289\n",
      "selfMade                0\n",
      "gender                  0\n",
      "birthDate              83\n",
      "title                2240\n",
      "philanthropyScore    2245\n",
      "bio                     0\n",
      "about                1092\n",
      "dtype: int64\n"
     ]
    }
   ],
   "source": [
    "#Verificando as alterações feitas\n",
    "print(df.isna().sum()) "
   ]
  },
  {
   "cell_type": "markdown",
   "id": "435984b6",
   "metadata": {},
   "source": [
    "# 3. Analisando os dados"
   ]
  },
  {
   "cell_type": "markdown",
   "id": "233269a4",
   "metadata": {},
   "source": [
    "# 3.1 Qual a distribuição de idade dos bilionários, a idade média, a idade mínima e a idade máxima?"
   ]
  },
  {
   "cell_type": "code",
   "execution_count": 15,
   "id": "b3313c37",
   "metadata": {},
   "outputs": [
    {
     "data": {
      "text/plain": [
       "<AxesSubplot:>"
      ]
     },
     "execution_count": 15,
     "metadata": {},
     "output_type": "execute_result"
    },
    {
     "data": {
      "image/png": "[encoded data removed]",
      "text/plain": [
       "<Figure size 432x288 with 1 Axes>"
      ]
     },
     "metadata": {
      "needs_background": "light"
     },
     "output_type": "display_data"
    }
   ],
   "source": [
    "df['age'].hist(bins=20)"
   ]
  },
  {
   "cell_type": "markdown",
   "id": "cca4292e",
   "metadata": {},
   "source": [
    "Podemos observar que a maioria dos bilionários se encontram na faixa de 55 - 65 anos de idade"
   ]
  },
  {
   "cell_type": "code",
   "execution_count": 17,
   "id": "f3f90725",
   "metadata": {},
   "outputs": [
    {
     "name": "stdout",
     "output_type": "stream",
     "text": [
      "Idade média dos bilionários: 64.24\n",
      "Idade mínima dos bilionários: 25.00\n",
      "Idade máxima dos bilionários: 100.00\n"
     ]
    }
   ],
   "source": [
    "# Calculando a idade média, idade mínima e idade máxima dos bilionários\n",
    "idade_media = df['age'].mean()\n",
    "idade_minima = df['age'].min()\n",
    "idade_maxima = df['age'].max()\n",
    "\n",
    "print(f'Idade média dos bilionários: {idade_media:.2f}')\n",
    "print(f'Idade mínima dos bilionários: {idade_minima:.2f}')\n",
    "print(f'Idade máxima dos bilionários: {idade_maxima:.2f}')"
   ]
  },
  {
   "cell_type": "code",
   "execution_count": 24,
   "id": "90642adf",
   "metadata": {
    "scrolled": true
   },
   "outputs": [
    {
     "data": {
      "text/html": [
       "<div>\n",
       "<style scoped>\n",
       "    .dataframe tbody tr th:only-of-type {\n",
       "        vertical-align: middle;\n",
       "    }\n",
       "\n",
       "    .dataframe tbody tr th {\n",
       "        vertical-align: top;\n",
       "    }\n",
       "\n",
       "    .dataframe thead th {\n",
       "        text-align: right;\n",
       "    }\n",
       "</style>\n",
       "<table border=\"1\" class=\"dataframe\">\n",
       "  <thead>\n",
       "    <tr style=\"text-align: right;\">\n",
       "      <th></th>\n",
       "      <th>rank</th>\n",
       "      <th>personName</th>\n",
       "      <th>age</th>\n",
       "      <th>finalWorth</th>\n",
       "      <th>category</th>\n",
       "      <th>source</th>\n",
       "      <th>country</th>\n",
       "      <th>state</th>\n",
       "      <th>city</th>\n",
       "      <th>organization</th>\n",
       "      <th>selfMade</th>\n",
       "      <th>gender</th>\n",
       "      <th>birthDate</th>\n",
       "      <th>title</th>\n",
       "      <th>philanthropyScore</th>\n",
       "      <th>bio</th>\n",
       "      <th>about</th>\n",
       "    </tr>\n",
       "  </thead>\n",
       "  <tbody>\n",
       "    <tr>\n",
       "      <th>1975</th>\n",
       "      <td>1929</td>\n",
       "      <td>Pedro Franceschi</td>\n",
       "      <td>25.0</td>\n",
       "      <td>1500</td>\n",
       "      <td>Finance &amp; Investments</td>\n",
       "      <td>fintech</td>\n",
       "      <td>United States</td>\n",
       "      <td>California</td>\n",
       "      <td>Los Angeles</td>\n",
       "      <td>Brex</td>\n",
       "      <td>True</td>\n",
       "      <td>M</td>\n",
       "      <td>7/19/1996</td>\n",
       "      <td>Cofounder</td>\n",
       "      <td>NaN</td>\n",
       "      <td>Pedro Franceschi is co-CEO of Brex, a fintech ...</td>\n",
       "      <td>NaN</td>\n",
       "    </tr>\n",
       "  </tbody>\n",
       "</table>\n",
       "</div>"
      ],
      "text/plain": [
       "      rank        personName   age  finalWorth               category  \\\n",
       "1975  1929  Pedro Franceschi  25.0        1500  Finance & Investments   \n",
       "\n",
       "       source        country       state         city organization  selfMade  \\\n",
       "1975  fintech  United States  California  Los Angeles         Brex      True   \n",
       "\n",
       "     gender  birthDate      title  philanthropyScore  \\\n",
       "1975      M  7/19/1996  Cofounder                NaN   \n",
       "\n",
       "                                                    bio about  \n",
       "1975  Pedro Franceschi is co-CEO of Brex, a fintech ...   NaN  "
      ]
     },
     "execution_count": 24,
     "metadata": {},
     "output_type": "execute_result"
    }
   ],
   "source": [
    "# A nível de curiosidade vamos ver quem é o mais novo e o mais velho da lista\n",
    "\n",
    "linha_menor_idade = df.nsmallest(1,'age')\n",
    "linha_menor_idade"
   ]
  },
  {
   "cell_type": "markdown",
   "id": "008caed0",
   "metadata": {},
   "source": [
    "O mais jovem na lista dos bilionários é Pedro Franceschi, Co-fundador da empresa Brex."
   ]
  },
  {
   "cell_type": "code",
   "execution_count": 26,
   "id": "1513c5ce",
   "metadata": {
    "scrolled": true
   },
   "outputs": [
    {
     "data": {
      "text/html": [
       "<div>\n",
       "<style scoped>\n",
       "    .dataframe tbody tr th:only-of-type {\n",
       "        vertical-align: middle;\n",
       "    }\n",
       "\n",
       "    .dataframe tbody tr th {\n",
       "        vertical-align: top;\n",
       "    }\n",
       "\n",
       "    .dataframe thead th {\n",
       "        text-align: right;\n",
       "    }\n",
       "</style>\n",
       "<table border=\"1\" class=\"dataframe\">\n",
       "  <thead>\n",
       "    <tr style=\"text-align: right;\">\n",
       "      <th></th>\n",
       "      <th>rank</th>\n",
       "      <th>personName</th>\n",
       "      <th>age</th>\n",
       "      <th>finalWorth</th>\n",
       "      <th>category</th>\n",
       "      <th>source</th>\n",
       "      <th>country</th>\n",
       "      <th>state</th>\n",
       "      <th>city</th>\n",
       "      <th>organization</th>\n",
       "      <th>selfMade</th>\n",
       "      <th>gender</th>\n",
       "      <th>birthDate</th>\n",
       "      <th>title</th>\n",
       "      <th>philanthropyScore</th>\n",
       "      <th>bio</th>\n",
       "      <th>about</th>\n",
       "    </tr>\n",
       "  </thead>\n",
       "  <tbody>\n",
       "    <tr>\n",
       "      <th>1681</th>\n",
       "      <td>1645</td>\n",
       "      <td>George Joseph</td>\n",
       "      <td>100.0</td>\n",
       "      <td>1800</td>\n",
       "      <td>Finance &amp; Investments</td>\n",
       "      <td>insurance</td>\n",
       "      <td>United States</td>\n",
       "      <td>California</td>\n",
       "      <td>Los Angeles</td>\n",
       "      <td>NaN</td>\n",
       "      <td>True</td>\n",
       "      <td>M</td>\n",
       "      <td>9/11/1921</td>\n",
       "      <td>NaN</td>\n",
       "      <td>NaN</td>\n",
       "      <td>George Joseph is the founder of Mercury Genera...</td>\n",
       "      <td>Joseph named the company after the Roman god M...</td>\n",
       "    </tr>\n",
       "  </tbody>\n",
       "</table>\n",
       "</div>"
      ],
      "text/plain": [
       "      rank     personName    age  finalWorth               category  \\\n",
       "1681  1645  George Joseph  100.0        1800  Finance & Investments   \n",
       "\n",
       "         source        country       state         city organization  \\\n",
       "1681  insurance  United States  California  Los Angeles          NaN   \n",
       "\n",
       "      selfMade gender  birthDate title  philanthropyScore  \\\n",
       "1681      True      M  9/11/1921   NaN                NaN   \n",
       "\n",
       "                                                    bio  \\\n",
       "1681  George Joseph is the founder of Mercury Genera...   \n",
       "\n",
       "                                                  about  \n",
       "1681  Joseph named the company after the Roman god M...  "
      ]
     },
     "execution_count": 26,
     "metadata": {},
     "output_type": "execute_result"
    }
   ],
   "source": [
    "linha_maior_idade = df.nlargest(1,'age')\n",
    "linha_maior_idade"
   ]
  },
  {
   "cell_type": "markdown",
   "id": "b2e9d0dc",
   "metadata": {},
   "source": [
    "O mais velho da lista é George Joseph, funddor da empresa Mercury General Corporation"
   ]
  },
  {
   "cell_type": "markdown",
   "id": "c869e1cf",
   "metadata": {},
   "source": [
    "# 3.2 Identificando as categorias de negócios mais lucrativas e suas personalidades mais ricas."
   ]
  },
  {
   "cell_type": "code",
   "execution_count": 28,
   "id": "50eb0ee2",
   "metadata": {
    "scrolled": false
   },
   "outputs": [
    {
     "name": "stdout",
     "output_type": "stream",
     "text": [
      "category\n",
      "Automotive                    8451.470588\n",
      "Technology                    6399.117647\n",
      "Fashion & Retail              6380.658436\n",
      "Metals & Mining               5745.588235\n",
      "Telecom                       5597.297297\n",
      "Logistics                     5276.470588\n",
      "Diversified                   5222.346369\n",
      "Media & Entertainment         5078.350515\n",
      "Gambling & Casinos            4678.260870\n",
      "Food & Beverage               4606.750000\n",
      "Finance & Investments         4401.808786\n",
      "Energy                        4182.105263\n",
      "Sports                        3651.851852\n",
      "Real Estate                   3577.083333\n",
      "Service                       3549.056604\n",
      "Healthcare                    3289.861751\n",
      "Manufacturing                 3266.366366\n",
      "Construction & Engineering    2693.478261\n",
      "Name: finalWorth, dtype: float64\n"
     ]
    }
   ],
   "source": [
    "# Agrupando os bilionários por categoria e calculando a média de patrimônio final\n",
    "media_patrimonio = df.groupby('category')['finalWorth'].mean()\n",
    "\n",
    "# Ordenando as categorias pela média de patrimônio final em ordem decrescente\n",
    "media_patrimonio = media_patrimonio.sort_values(ascending=False)\n",
    "\n",
    "print(media_patrimonio)"
   ]
  },
  {
   "cell_type": "markdown",
   "id": "5f163f3e",
   "metadata": {},
   "source": [
    "Notamos que não coincidentemente, a categoria com a maior média de patrimonio é a categoria em que atua o lider da lista Elon Musk."
   ]
  },
  {
   "cell_type": "code",
   "execution_count": 46,
   "id": "8ca4379f",
   "metadata": {},
   "outputs": [
    {
     "name": "stdout",
     "output_type": "stream",
     "text": [
      "Personalidades mais ricas na categoria mais lucrativa:\n",
      "         personName  finalWorth\n",
      "0         Elon Musk      219000\n",
      "28       Robin Zeng       44800\n",
      "55  Susanne Klatten       24300\n",
      "61         Li Shufu       23700\n",
      "76    Stefan Quandt       20700\n"
     ]
    }
   ],
   "source": [
    "categoria_mais_lucrativa = media_patrimonio.index[0]\n",
    "personalidades = df[df['category'] == categoria_mais_lucrativa]\n",
    "\n",
    "personalidades = personalidades.sort_values(by = 'finalWorth', ascending = False)\n",
    "\n",
    "print('Personalidades mais ricas na categoria mais lucrativa:')\n",
    "print(personalidades[['personName', 'finalWorth']].head())"
   ]
  },
  {
   "cell_type": "markdown",
   "id": "4fd6da34",
   "metadata": {},
   "source": [
    "# 3.3 Verificando a proporção de homens e mulheres presentes no dataset e analisar se há alguma diferença significativa entre a quantidade de homens e mulheres bilionários."
   ]
  },
  {
   "cell_type": "code",
   "execution_count": 30,
   "id": "e5d063b5",
   "metadata": {
    "scrolled": true
   },
   "outputs": [
    {
     "name": "stdout",
     "output_type": "stream",
     "text": [
      "Quantidade de bilionários por gênero:\n",
      "gender\n",
      "F     307\n",
      "M    2332\n",
      "Name: personName, dtype: int64\n",
      "\n",
      "Média de patrimônio final para homens: 4758.597770154374\n",
      "Média de patrimônio final para mulheres: 4681.4332247557\n"
     ]
    }
   ],
   "source": [
    "# Agrupando os bilionários por gênero e contando o número de bilionários em cada gênero\n",
    "contagem_genero = df.groupby('gender')['personName'].count()\n",
    "\n",
    "# Calculando a média de patrimônio final para homens e mulheres\n",
    "media_patrimonio_homem = df.loc[df['gender'] == 'M']['finalWorth'].mean()\n",
    "media_patrimonio_mulher = df.loc[df['gender'] == 'F']['finalWorth'].mean()\n",
    "\n",
    "print('Quantidade de bilionários por gênero:')\n",
    "print(contagem_genero)\n",
    "print()\n",
    "print('Média de patrimônio final para homens:', media_patrimonio_homem)\n",
    "print('Média de patrimônio final para mulheres:', media_patrimonio_mulher)"
   ]
  },
  {
   "cell_type": "markdown",
   "id": "f4594239",
   "metadata": {},
   "source": [
    "Notamos que a quantidade de homens na lista é consideravelmente maior que a das mulheres, também tendo a média maior."
   ]
  },
  {
   "cell_type": "code",
   "execution_count": 33,
   "id": "d4b9d8a4",
   "metadata": {},
   "outputs": [
    {
     "data": {
      "image/png": "[encoded data removed]",
      "text/plain": [
       "<Figure size 576x576 with 1 Axes>"
      ]
     },
     "metadata": {},
     "output_type": "display_data"
    }
   ],
   "source": [
    "# Vamos ver essa comparação em um gráfico de pizza\n",
    "plt.figure(figsize=(8, 8))\n",
    "plt.pie(contagem_genero.values, labels=contagem_genero.index, autopct='%1.1f%%')\n",
    "plt.title('Distribuição de gênero entre os bilionários')\n",
    "plt.show()"
   ]
  },
  {
   "cell_type": "markdown",
   "id": "8684eebd",
   "metadata": {},
   "source": [
    "# 3.4 Identificando os países com maior número de bilionários e analisar a distribuição de patrimônio desses bilionários por país."
   ]
  },
  {
   "cell_type": "code",
   "execution_count": 34,
   "id": "747c3606",
   "metadata": {},
   "outputs": [
    {
     "data": {
      "image/png": "[encoded data removed]",
      "text/plain": [
       "<Figure size 864x432 with 1 Axes>"
      ]
     },
     "metadata": {
      "needs_background": "light"
     },
     "output_type": "display_data"
    }
   ],
   "source": [
    "# Agrupando os bilionários por país e contando o número de bilionários em cada país\n",
    "contagem_pais = df.groupby('country')['personName'].count()\n",
    "\n",
    "# Ordenando os países pela quantidade de bilionários em ordem decrescente\n",
    "contagem_pais = contagem_pais.sort_values(ascending=False)\n",
    "\n",
    "# Visualizando as informações em um gráfico de barras\n",
    "plt.figure(figsize=(12, 6))\n",
    "plt.bar(contagem_pais.index, contagem_pais.values)\n",
    "plt.xticks(rotation=90)\n",
    "plt.xlabel('Países')\n",
    "plt.ylabel('Número de bilionários')\n",
    "plt.title('Quantidade de bilionários por país')\n",
    "plt.show()"
   ]
  },
  {
   "cell_type": "markdown",
   "id": "44d90404",
   "metadata": {},
   "source": [
    "Percebemos que o país com o maior número de bilionários são os Estados Unidos, seguido pela China. Estando ambos bem a frente dos demais países."
   ]
  },
  {
   "cell_type": "code",
   "execution_count": 42,
   "id": "c13dacbf",
   "metadata": {
    "scrolled": true
   },
   "outputs": [
    {
     "name": "stdout",
     "output_type": "stream",
     "text": [
      "Quantidade de brasileros na lista: 53\n"
     ]
    }
   ],
   "source": [
    "# A nivel de curiosidade, vamos ver quantos bilionários brasileiros estão na lista\n",
    "contagem_br = df.loc[df['country'] == 'Brazil'].shape[0]\n",
    "print('Quantidade de brasileros na lista:', contagem_br)"
   ]
  },
  {
   "cell_type": "markdown",
   "id": "576ef018",
   "metadata": {},
   "source": [
    "# Considerações sobre a análise"
   ]
  },
  {
   "cell_type": "markdown",
   "id": "8f3f0b3b",
   "metadata": {},
   "source": [
    "Esta análise foi realizada como parte de um estudo e teve como objetivo explorar o arquivo .csv encontrado no site do kaggle. Embora os resultados obtidos sejam úteis, reconheço que este é um estudo simples e que há espaço para melhorias no futuro. \n",
    "Em particular, seria interessante explorar outras variáveis e técnicas de análise mais avançadas para obter uma compreensão mais profunda dos dados. Além disso, no futuro, pretendo aprofundar esta análise com técnicas mais avançadas, como análises de séries temporais, análise de regressão e aprendizado de máquina. Acredito que essas técnicas adicionais ajudarão a obter insights mais significativos sobre os dados e aprimorar a precisão da análise."
   ]
  },
  {
   "cell_type": "code",
   "execution_count": null,
   "id": "84fce928",
   "metadata": {},
   "outputs": [],
   "source": []
  }
 ],
 "metadata": {
  "kernelspec": {
   "display_name": "Python 3 (ipykernel)",
   "language": "python",
   "name": "python3"
  },
  "language_info": {
   "codemirror_mode": {
    "name": "ipython",
    "version": 3
   },
   "file_extension": ".py",
   "mimetype": "text/x-python",
   "name": "python",
   "nbconvert_exporter": "python",
   "pygments_lexer": "ipython3",
   "version": "3.9.12"
  }
 },
 "nbformat": 4,
 "nbformat_minor": 5
}
